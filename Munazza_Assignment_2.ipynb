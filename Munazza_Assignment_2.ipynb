{
  "nbformat": 4,
  "nbformat_minor": 0,
  "metadata": {
    "colab": {
      "provenance": [],
      "include_colab_link": true
    },
    "kernelspec": {
      "name": "python3",
      "display_name": "Python 3"
    },
    "language_info": {
      "name": "python"
    }
  },
  "cells": [
    {
      "cell_type": "markdown",
      "metadata": {
        "id": "view-in-github",
        "colab_type": "text"
      },
      "source": [
        "<a href=\"https://colab.research.google.com/github/MUNAZZAGITHUB/ASSIGNMENT-NO-2/blob/main/Munazza_Assignment_2.ipynb\" target=\"_parent\"><img src=\"https://colab.research.google.com/assets/colab-badge.svg\" alt=\"Open In Colab\"/></a>"
      ]
    },
    {
      "cell_type": "markdown",
      "source": [
        "# 7.11"
      ],
      "metadata": {
        "id": "_sdYSq1QtA_B"
      }
    },
    {
      "cell_type": "code",
      "source": [
        "pizza_munazza=['tikka Pizza','Siclian Pizza','Greek Pizza','Shahi Pizza']\n",
        "friend_pizza_munazza=pizza_munazza[:]\n",
        "print(\"My Favorite pizzas are:\")\n",
        "for pizzas in pizza_munazza: print(pizzas)\n",
        "print(\"\\nMy friend's Favorite pizzas are:\")\n",
        "for friend_pizzas in friend_pizza_munazza: print(pizza_munazza)"
      ],
      "metadata": {
        "colab": {
          "base_uri": "https://localhost:8080/"
        },
        "id": "rFjrZqgptHWd",
        "outputId": "28482d4b-16c5-4a3d-b366-83288a42f1b8"
      },
      "execution_count": null,
      "outputs": [
        {
          "output_type": "stream",
          "name": "stdout",
          "text": [
            "My Favorite pizzas are:\n",
            "tikka Pizza\n",
            "Siclian Pizza\n",
            "Greek Pizza\n",
            "Shahi Pizza\n",
            "\n",
            "My friend's Favorite pizzas are:\n",
            "['tikka Pizza', 'Siclian Pizza', 'Greek Pizza', 'Shahi Pizza']\n",
            "['tikka Pizza', 'Siclian Pizza', 'Greek Pizza', 'Shahi Pizza']\n",
            "['tikka Pizza', 'Siclian Pizza', 'Greek Pizza', 'Shahi Pizza']\n",
            "['tikka Pizza', 'Siclian Pizza', 'Greek Pizza', 'Shahi Pizza']\n"
          ]
        }
      ]
    },
    {
      "cell_type": "markdown",
      "source": [
        "# **4.13**"
      ],
      "metadata": {
        "id": "upNJ4c8tvm6L"
      }
    },
    {
      "cell_type": "code",
      "source": [
        "buffet_Munazza=('Mutton','Chicken','rice','kabab','fish') \n",
        "print(\"Our Resturant Offers following Foods:\")\n",
        "for foods in buffet_Munazza:print(foods)\n",
        "\n",
        "buffet_Munazza=('Mutton','Chicken','rice','kabab','fish','Tikka Boti') \n",
        "print(\"Our Resturant Offers following Foods after adding new items:\") \n",
        "for foods in buffet_Munazza:\n",
        "    print(foods)"
      ],
      "metadata": {
        "colab": {
          "base_uri": "https://localhost:8080/"
        },
        "id": "WhZRRrQQvvQH",
        "outputId": "23ef5d29-cbb4-46ac-c49a-588dd846590e"
      },
      "execution_count": null,
      "outputs": [
        {
          "output_type": "stream",
          "name": "stdout",
          "text": [
            "Our Resturant Offers following Foods:\n",
            "Mutton\n",
            "Chicken\n",
            "rice\n",
            "kabab\n",
            "fish\n",
            "Our Resturant Offers following Foods after adding new items:\n",
            "Mutton\n",
            "Chicken\n",
            "rice\n",
            "kabab\n",
            "fish\n",
            "Tikka Boti\n"
          ]
        }
      ]
    },
    {
      "cell_type": "markdown",
      "source": [
        "# 5.2"
      ],
      "metadata": {
        "id": "J5LTXNqkx8pz"
      }
    },
    {
      "cell_type": "code",
      "source": [
        "#p1\n",
        "help_munazza=\"OPPOA5S\" \n",
        "print(help_munazza=='Nokia') \n",
        "print(help_munazza=='OPPOA5S') \n",
        "print(help_munazza!='Nokia') \n",
        "print(help_munazza!='OPPOA5S')\n",
        "\n",
        "# Part 2 \n",
        "# Test using the Lower function \n",
        "print(\"\\n\") \n",
        "print(help_munazza.lower()=='OPPOA5S') \n",
        "print(help_munazza.lower()=='OPPOA5S')\n",
        "\n",
        "# Part 3 \n",
        "print(\"\\n\") \n",
        "bee_munazza=15\n",
        "print(bee_munazza==10) # Equality \n",
        "print(bee_munazza!=10) # Non Equality \n",
        "print(bee_munazza>15) # Greater then \n",
        "print(bee_munazza<15) # Less then \n",
        "print(bee_munazza>=10) #Greater then equal to \n",
        "print(bee_munazza<=15) # less then equal to\n",
        "\n",
        "#Part 4 \n",
        "print(\"\\n\") \n",
        "age_munazza=27 \n",
        "height_munazza=5.7\n",
        "print(age_munazza>30 and height_munazza>=5.6) \n",
        "print(age_munazza>30 or height_munazza>=5.6)\n",
        "\n",
        "# Part 5\n",
        " \n",
        "print(\"\\n\") \n",
        "list_munazza=[30,25,56,580,582,100] \n",
        "item_munazza=990\n",
        "for item in list_munazza:\n",
        "    if(item_munazza==item): item_shehroz=True\n",
        "if(item_munazza==True):\n",
        "    print(\"Item is Available in the list\")\n",
        "else:\n",
        "    print(\"Item is Not available in the list\")"
      ],
      "metadata": {
        "colab": {
          "base_uri": "https://localhost:8080/"
        },
        "id": "preWCD0cyBdF",
        "outputId": "8f6d8352-4bd8-44a4-880a-21ccb4afb800"
      },
      "execution_count": null,
      "outputs": [
        {
          "output_type": "stream",
          "name": "stdout",
          "text": [
            "False\n",
            "True\n",
            "True\n",
            "False\n",
            "\n",
            "\n",
            "False\n",
            "False\n",
            "\n",
            "\n",
            "False\n",
            "True\n",
            "False\n",
            "False\n",
            "True\n",
            "True\n",
            "\n",
            "\n",
            "False\n",
            "True\n",
            "\n",
            "\n",
            "Item is Not available in the list\n"
          ]
        }
      ]
    },
    {
      "cell_type": "markdown",
      "source": [
        "6.3"
      ],
      "metadata": {
        "id": "nD94JMHYzHnf"
      }
    },
    {
      "cell_type": "code",
      "source": [
        "glossary_shehroz={\n",
        "'Variable':'Named memory locations', \n",
        "'List':'data structure to store group of items',\n",
        " \n",
        "'Python':'A high level Programing Language', \n",
        "'if':'conditional Statement',\n",
        "'Loops':'Repeatedly executes statement or block of statements'\n",
        "}\n",
        "for key, value in glossary_shehroz.items(): \n",
        "    print(key+\":\\t\"+value)"
      ],
      "metadata": {
        "colab": {
          "base_uri": "https://localhost:8080/"
        },
        "id": "SAG5g6zRzJQG",
        "outputId": "c97776dd-585f-41f1-de5a-a985d3c171f2"
      },
      "execution_count": null,
      "outputs": [
        {
          "output_type": "stream",
          "name": "stdout",
          "text": [
            "Variable:\tNamed memory locations\n",
            "List:\tdata structure to store group of items\n",
            "Python:\tA high level Programing Language\n",
            "if:\tconditional Statement\n",
            "Loops:\tRepeatedly executes statement or block of statements\n"
          ]
        }
      ]
    },
    {
      "cell_type": "markdown",
      "source": [
        "# 6.11"
      ],
      "metadata": {
        "id": "HOgoGtWtzh4K"
      }
    },
    {
      "cell_type": "code",
      "source": [
        "cities_munazza={ 'Lahore':{\n",
        "'Country':'Pakistan', 'Population':'11.13 Million', 'Fact':'Biggest city of the region'\n",
        "},\n",
        "'New York':{\n",
        "'Country':'United States', 'Population':'8.468 Million',\n",
        "'Fact':'About 22 percent of New York City\\'s land is used for public parks '\n",
        "},\n",
        "'Mumbai':{\n",
        "'Country':'India', 'Population':'20.96 Million',\n",
        "'Fact':'Mumbai was earlier called as Bombay'\n",
        "}\n",
        "}\n",
        "for cities,info in cities_munazza.items(): \n",
        "    print(\"\\nCity Name: \"+cities) \n",
        "    print(\"\\tContry: \"+info['Country']) \n",
        "    print(\"\\tPopulation: \"+info['Population']) \n",
        "    print(\"\\tFact: \"+info['Fact'])"
      ],
      "metadata": {
        "colab": {
          "base_uri": "https://localhost:8080/"
        },
        "id": "ixAXg-KazmSf",
        "outputId": "7d67ab2b-71fb-4ffd-9f0e-f66dad407880"
      },
      "execution_count": null,
      "outputs": [
        {
          "output_type": "stream",
          "name": "stdout",
          "text": [
            "\n",
            "City Name: Lahore\n",
            "\tContry: Pakistan\n",
            "\tPopulation: 11.13 Million\n",
            "\tFact: Biggest city of the region\n",
            "\n",
            "City Name: New York\n",
            "\tContry: United States\n",
            "\tPopulation: 8.468 Million\n",
            "\tFact: About 22 percent of New York City's land is used for public parks \n",
            "\n",
            "City Name: Mumbai\n",
            "\tContry: India\n",
            "\tPopulation: 20.96 Million\n",
            "\tFact: Mumbai was earlier called as Bombay\n"
          ]
        }
      ]
    }
  ]
}